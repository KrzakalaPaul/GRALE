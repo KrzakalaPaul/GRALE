{
 "cells": [
  {
   "cell_type": "code",
   "execution_count": 1,
   "id": "512c527f",
   "metadata": {},
   "outputs": [],
   "source": [
    "checkpoint_path = \"checkpoints/pldxrnvt/checkpoints/epoch=149-step=300000.ckpt\""
   ]
  },
  {
   "cell_type": "code",
   "execution_count": 2,
   "id": "c58f6819",
   "metadata": {},
   "outputs": [
    {
     "name": "stderr",
     "output_type": "stream",
     "text": [
      "/tmp/ipykernel_171994/2495072331.py:5: FutureWarning: You are using `torch.load` with `weights_only=False` (the current default value), which uses the default pickle module implicitly. It is possible to construct malicious pickle data which will execute arbitrary code during unpickling (See https://github.com/pytorch/pytorch/blob/main/SECURITY.md#untrusted-models for more details). In a future release, the default value for `weights_only` will be flipped to `True`. This limits the functions that could be executed during unpickling. Arbitrary objects will no longer be allowed to be loaded via this mode unless they are explicitly allowlisted by the user via `torch.serialization.add_safe_globals`. We recommend you start setting `weights_only=True` for any use case where you don't have full control of the loaded file. Please open an issue on GitHub for any issues related to this experimental feature.\n",
      "  config = torch.load(checkpoint_path, map_location=lambda storage, loc: storage)[\"hyper_parameters\"]\n"
     ]
    }
   ],
   "source": [
    "from GRALE.main import GRALE_model\n",
    "import torch\n",
    "# Load a Lightning checkpoint\n",
    "model = GRALE_model.load_from_checkpoint(checkpoint_path)\n",
    "config = torch.load(checkpoint_path, map_location=lambda storage, loc: storage)[\"hyper_parameters\"]"
   ]
  },
  {
   "cell_type": "code",
   "execution_count": 3,
   "id": "18a1b4e4",
   "metadata": {},
   "outputs": [
    {
     "data": {
      "text/plain": [
       "{'alpha_adjacency': 0.2,\n",
       " 'alpha_edge_features': 0.1,\n",
       " 'alpha_edge_labels': 0.2,\n",
       " 'alpha_h': 1,\n",
       " 'alpha_marginals': 1,\n",
       " 'alpha_node_features': 0.1,\n",
       " 'alpha_node_labels': 1,\n",
       " 'weight_decay': 0,\n",
       " 'base_lr': 0.0001,\n",
       " 'max_grad_norm': 1.0,\n",
       " 'batchsize': 64,\n",
       " 'n_workers': 6,\n",
       " 'n_warmup_steps': 2000,\n",
       " 'n_grad_steps': 300000,\n",
       " 'n_data_epoch': 128000,\n",
       " 'n_data_valid': 4000,\n",
       " 'dataset': 'PUBCHEM_32',\n",
       " 'matcher_model': 'sinkhorn',\n",
       " 'encoder_model': 'evoformer',\n",
       " 'decoder_model': 'evoformer',\n",
       " 'n_layers': 3,\n",
       " 'n_heads': 4,\n",
       " 'norm_post_or_pre': 'pre',\n",
       " 'triangular_attention_mode': 'none',\n",
       " 'triangular_multiplication_mode': 'row',\n",
       " 'node_features_dim': 32,\n",
       " 'node_hidden_dim': 256,\n",
       " 'node_labels_dim': 32,\n",
       " 'node_model_dim': 256,\n",
       " 'node_pos_dim': 16,\n",
       " 'edge_features_dim': 1,\n",
       " 'edge_hidden_dim': None,\n",
       " 'edge_labels_dim': 6,\n",
       " 'edge_model_dim': 128,\n",
       " 'edge_pos_dim': 32,\n",
       " 'n_nodes_max': 16,\n",
       " 'graph_embedding_dim': 128,\n",
       " 'graph_embedding_size': 4,\n",
       " 'matcher_dim': 64,\n",
       " 'normalize_cost_matrix': True,\n",
       " 'max_iter_sinkhorn': 50,\n",
       " 'epsilon': 0.0001,\n",
       " 'fixed_n_iters_sinkhorn': True,\n",
       " 'dropout_attn': 0.0,\n",
       " 'dropout_mlp': 0.0,\n",
       " 'dropout_skip': 0.0,\n",
       " 'device': 'cuda',\n",
       " 'log_every': 100,\n",
       " 'logger': 'mlflow'}"
      ]
     },
     "execution_count": 3,
     "metadata": {},
     "output_type": "execute_result"
    }
   ],
   "source": [
    "config"
   ]
  },
  {
   "cell_type": "code",
   "execution_count": null,
   "id": "db5d0e85",
   "metadata": {},
   "outputs": [],
   "source": []
  }
 ],
 "metadata": {
  "kernelspec": {
   "display_name": "myenv",
   "language": "python",
   "name": "python3"
  },
  "language_info": {
   "codemirror_mode": {
    "name": "ipython",
    "version": 3
   },
   "file_extension": ".py",
   "mimetype": "text/x-python",
   "name": "python",
   "nbconvert_exporter": "python",
   "pygments_lexer": "ipython3",
   "version": "3.9.21"
  }
 },
 "nbformat": 4,
 "nbformat_minor": 5
}
